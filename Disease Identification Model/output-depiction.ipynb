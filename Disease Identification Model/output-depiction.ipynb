{
 "cells": [
  {
   "cell_type": "code",
   "execution_count": 10,
   "metadata": {
    "execution": {
     "iopub.execute_input": "2025-03-27T09:28:53.206358Z",
     "iopub.status.busy": "2025-03-27T09:28:53.205994Z",
     "iopub.status.idle": "2025-03-27T09:28:53.901709Z",
     "shell.execute_reply": "2025-03-27T09:28:53.901046Z",
     "shell.execute_reply.started": "2025-03-27T09:28:53.206327Z"
    },
    "trusted": true
   },
   "outputs": [
    {
     "name": "stderr",
     "output_type": "stream",
     "text": [
      "WARNING:absl:No training configuration found in the save file, so the model was *not* compiled. Compile it manually.\n"
     ]
    },
    {
     "name": "stdout",
     "output_type": "stream",
     "text": [
      "WARNING:tensorflow:6 out of the last 6 calls to <function TensorFlowTrainer.make_predict_function.<locals>.one_step_on_data_distributed at 0x00000222B2BFA3E0> triggered tf.function retracing. Tracing is expensive and the excessive number of tracings could be due to (1) creating @tf.function repeatedly in a loop, (2) passing tensors with different shapes, (3) passing Python objects instead of tensors. For (1), please define your @tf.function outside of the loop. For (2), @tf.function has reduce_retracing=True option that can avoid unnecessary retracing. For (3), please refer to https://www.tensorflow.org/guide/function#controlling_retracing and https://www.tensorflow.org/api_docs/python/tf/function for  more details.\n"
     ]
    },
    {
     "name": "stderr",
     "output_type": "stream",
     "text": [
      "WARNING:tensorflow:6 out of the last 6 calls to <function TensorFlowTrainer.make_predict_function.<locals>.one_step_on_data_distributed at 0x00000222B2BFA3E0> triggered tf.function retracing. Tracing is expensive and the excessive number of tracings could be due to (1) creating @tf.function repeatedly in a loop, (2) passing tensors with different shapes, (3) passing Python objects instead of tensors. For (1), please define your @tf.function outside of the loop. For (2), @tf.function has reduce_retracing=True option that can avoid unnecessary retracing. For (3), please refer to https://www.tensorflow.org/guide/function#controlling_retracing and https://www.tensorflow.org/api_docs/python/tf/function for  more details.\n"
     ]
    },
    {
     "name": "stdout",
     "output_type": "stream",
     "text": [
      "\u001b[1m1/1\u001b[0m \u001b[32m━━━━━━━━━━━━━━━━━━━━\u001b[0m\u001b[37m\u001b[0m \u001b[1m1s\u001b[0m 652ms/step\n",
      "🦠 Predicted Disease: Bell Pepper_Healthy\n",
      "No recommendation found for this disease. The leaf is healthy.\n"
     ]
    }
   ],
   "source": [
    "import tensorflow as tf\n",
    "import numpy as np\n",
    "import pandas as pd\n",
    "from tensorflow.keras.preprocessing import image\n",
    "from IPython.display import display, Image\n",
    "import os\n",
    "\n",
    "\n",
    "# Load class indices\n",
    "class_indices = {\n",
    "    'Apple_Apple Scab': 0, 'Apple_Black Rot': 1, 'Apple_Cedar Apple Rust': 2, 'Apple_Healthy': 3,\n",
    "    'Bell Pepper_Bacterial Spot': 4, 'Bell Pepper_Healthy': 5, 'Cherry_Healthy': 6, 'Cherry_Powdery Mildew': 7,\n",
    "    'Corn (Maize)_Cercospora Leaf Spot': 8, 'Corn (Maize)_Common Rust': 9, 'Corn (Maize)_Healthy': 10,\n",
    "    'Corn (Maize)_Northern Leaf Blight': 11, 'Grape_Black Rot': 12, 'Grape_Esca (Black Measles)': 13,\n",
    "    'Grape_Healthy': 14, 'Grape_Leaf Blight': 15, 'Peach_Bacterial Spot': 16, 'Peach_Healthy': 17,\n",
    "    'Potato_Early Blight': 18, 'Potato_Healthy': 19, 'Potato_Late Blight': 20, 'Strawberry_Healthy': 21,\n",
    "    'Strawberry_Leaf Scorch': 22, 'Tomato_Bacterial Spot': 23, 'Tomato_Early Blight': 24, 'Tomato_Healthy': 25,\n",
    "    'Tomato_Late Blight': 26, 'Tomato_Septoria Leaf Spot': 27, 'Tomato_Yellow Leaf Curl Virus': 28\n",
    "}\n",
    "\n",
    "# Load trained TensorFlow model\n",
    "model_path = 'student_model_final.h5'\n",
    "loaded_model = tf.keras.models.load_model(model_path)\n",
    "\n",
    "# Load plant disease dataset (recommendation CSV)\n",
    "df = pd.read_csv(\"plant.csv\")  \n",
    "\n",
    "# Function to preprocess image\n",
    "def load_and_preprocess_image(img_path, target_size=(128, 128)):\n",
    "    img = image.load_img(img_path, target_size=target_size)\n",
    "    img_array = image.img_to_array(img)\n",
    "    img_array = np.expand_dims(img_array, axis=0)  # Add batch dimension\n",
    "    img_array /= 255.0  # Normalize to [0,1]\n",
    "    return img_array\n",
    "\n",
    "# Function to predict disease from an image\n",
    "def predict_disease(model, img_path, class_indices):\n",
    "    img_array = load_and_preprocess_image(img_path)\n",
    "    \n",
    "    # Get predictions\n",
    "    preds = model.predict(img_array)\n",
    "    \n",
    "    # If the model returns multiple outputs, assume predictions are the second element\n",
    "    if isinstance(preds, list) and len(preds) >= 2:\n",
    "        preds = preds[1]\n",
    "    \n",
    "    # Convert to a NumPy array and flatten it to 1D\n",
    "    preds = np.asarray(preds).flatten()\n",
    "    \n",
    "    # Get the predicted class index\n",
    "    pred_idx = np.argmax(preds)\n",
    "    \n",
    "    # Invert class_indices to get class names\n",
    "    inv_class_indices = {v: k for k, v in class_indices.items()}\n",
    "    predicted_label = inv_class_indices.get(pred_idx, \"Unknown Disease\")\n",
    "    \n",
    "    print(f\"🦠 Predicted Disease: {predicted_label}\")\n",
    "    return predicted_label\n",
    "\n",
    "# Function to get recommendations for a predicted disease\n",
    "def get_recommendation(disease_name):\n",
    "    # Use strip() and lower() to remove extra spaces and normalize case\n",
    "    disease_info = df[df[\"Disease\"].str.strip().str.lower() == disease_name.strip().lower()]\n",
    "    \n",
    "    if disease_info.empty:\n",
    "        print(\"No recommendation found for this disease. The leaf is healthy.\")\n",
    "        return\n",
    "    \n",
    "    # Extract relevant details\n",
    "    plant = disease_info.iloc[0][\"Plant\"]\n",
    "    symptoms = disease_info.iloc[0][\"Symptoms\"]\n",
    "    causes = disease_info.iloc[0][\"Causes\"]\n",
    "    treatment = disease_info.iloc[0][\"Recommended Treatments\"]\n",
    "    prevention = disease_info.iloc[0][\"Preventive Measures\"]\n",
    "    organic_treatment = disease_info.iloc[0][\"Organic Treatment Options\"]\n",
    "    alternative_prevention = disease_info.iloc[0][\"Alternative Prevention Methods\"]\n",
    "    procedure_video = disease_info.iloc[0][\"Procedure Video Link\"]\n",
    "    disease_image = disease_info.iloc[0][\"Graphical Representation\"]\n",
    "\n",
    "    # Display recommendation details\n",
    "    recommendation = f\"\"\"\n",
    "    🌱 **Plant:** {plant}\n",
    "    🦠 **Disease:** {disease_name}\n",
    "    🔬 **Symptoms:** {symptoms}\n",
    "    ⚠ **Causes:** {causes}\n",
    "    💊 **Recommended Treatment:** {treatment}\n",
    "    ✅ **Preventive Measures:** {prevention}\n",
    "    🌿 **Organic Treatment Options:** {organic_treatment}\n",
    "    🔄 **Alternative Prevention Methods:** {alternative_prevention}\n",
    "    🎥 **Procedure Video:** {procedure_video}\n",
    "    \"\"\"\n",
    "    \n",
    "    print(recommendation)\n",
    "    \n",
    "    # Display image if available\n",
    "    if pd.notna(disease_image) and disease_image.startswith(\"http\"):\n",
    "        display(Image(url=disease_image, width=400))\n",
    "\n",
    "new_image_path = 'apple.png'\n",
    "\n",
    "predicted_disease = predict_disease(loaded_model, new_image_path, class_indices)\n",
    "\n",
    "get_recommendation(predicted_disease)"
   ]
  },
  {
   "cell_type": "code",
   "execution_count": 34,
   "metadata": {
    "execution": {
     "iopub.execute_input": "2025-03-27T09:28:59.636345Z",
     "iopub.status.busy": "2025-03-27T09:28:59.635999Z",
     "iopub.status.idle": "2025-03-27T09:28:59.703804Z",
     "shell.execute_reply": "2025-03-27T09:28:59.702805Z",
     "shell.execute_reply.started": "2025-03-27T09:28:59.636316Z"
    },
    "trusted": true
   },
   "outputs": [
    {
     "name": "stdout",
     "output_type": "stream",
     "text": [
      "\u001b[1m1/1\u001b[0m \u001b[32m━━━━━━━━━━━━━━━━━━━━\u001b[0m\u001b[37m\u001b[0m \u001b[1m0s\u001b[0m 17ms/step\n",
      "🦠 Predicted Disease: Apple_Healthy\n",
      "No recommendation found for this disease. The leaf is healthy.\n"
     ]
    }
   ],
   "source": [
    "new_image_path = '/kaggle/input/test-leaves/AppleHealthy.jpg'\n",
    "\n",
    "predicted_disease = predict_disease(loaded_model, new_image_path, class_indices)\n",
    "\n",
    "get_recommendation(predicted_disease)"
   ]
  },
  {
   "cell_type": "code",
   "execution_count": 35,
   "metadata": {
    "execution": {
     "iopub.execute_input": "2025-03-27T09:29:03.875182Z",
     "iopub.status.busy": "2025-03-27T09:29:03.874842Z",
     "iopub.status.idle": "2025-03-27T09:29:03.944240Z",
     "shell.execute_reply": "2025-03-27T09:29:03.943249Z",
     "shell.execute_reply.started": "2025-03-27T09:29:03.875153Z"
    },
    "trusted": true
   },
   "outputs": [
    {
     "name": "stdout",
     "output_type": "stream",
     "text": [
      "\u001b[1m1/1\u001b[0m \u001b[32m━━━━━━━━━━━━━━━━━━━━\u001b[0m\u001b[37m\u001b[0m \u001b[1m0s\u001b[0m 18ms/step\n",
      "🦠 Predicted Disease: Bell Pepper_Bacterial Spot\n",
      "\n",
      "    🌱 **Plant:** Bell Pepper\n",
      "    🦠 **Disease:** Bell Pepper_Bacterial Spot\n",
      "    🔬 **Symptoms:** Water-soaked lesions on leaves & fruit\n",
      "    ⚠ **Causes:** Xanthomonas campestris (bacteria)\n",
      "    💊 **Recommended Treatment:** Copper-based bactericide spray\n",
      "    ✅ **Preventive Measures:** Use disease-free seeds, avoid overhead watering\n",
      "    🌿 **Organic Treatment Options:** Copper hydroxide spray\n",
      "    🔄 **Alternative Prevention Methods:** Crop rotation with non-host plants\n",
      "    🎥 **Procedure Video:** https://youtu.be/t1eIkOhfYbk?si=ejhJKKbogygTPIxn  /  https://youtu.be/XPtRY8pANzU?si=J1cs8NJsQaj_JHLB\n",
      "    \n"
     ]
    },
    {
     "data": {
      "text/html": [
       "<img src=\"https://vegcropshotline.org/wp-content/uploads/2023/03/PICT0015-1-1024x768.jpg\" width=\"400\"/>"
      ],
      "text/plain": [
       "<IPython.core.display.Image object>"
      ]
     },
     "metadata": {},
     "output_type": "display_data"
    }
   ],
   "source": [
    "new_image_path = '/kaggle/input/test-leaves/BellPepperBS.jpg'\n",
    "\n",
    "predicted_disease = predict_disease(loaded_model, new_image_path, class_indices)\n",
    "\n",
    "get_recommendation(predicted_disease)"
   ]
  },
  {
   "cell_type": "code",
   "execution_count": 36,
   "metadata": {
    "execution": {
     "iopub.execute_input": "2025-03-27T09:29:07.787241Z",
     "iopub.status.busy": "2025-03-27T09:29:07.786920Z",
     "iopub.status.idle": "2025-03-27T09:29:07.855609Z",
     "shell.execute_reply": "2025-03-27T09:29:07.854943Z",
     "shell.execute_reply.started": "2025-03-27T09:29:07.787214Z"
    },
    "trusted": true
   },
   "outputs": [
    {
     "name": "stdout",
     "output_type": "stream",
     "text": [
      "\u001b[1m1/1\u001b[0m \u001b[32m━━━━━━━━━━━━━━━━━━━━\u001b[0m\u001b[37m\u001b[0m \u001b[1m0s\u001b[0m 17ms/step\n",
      "🦠 Predicted Disease: Tomato_Early Blight\n",
      "\n",
      "    🌱 **Plant:** Tomato\n",
      "    🦠 **Disease:** Tomato_Early Blight\n",
      "    🔬 **Symptoms:** Dark, circular spots on lower leaves\n",
      "    ⚠ **Causes:** Alternaria solani (fungus)\n",
      "    💊 **Recommended Treatment:** Use chlorothalonil or mancozeb\n",
      "    ✅ **Preventive Measures:** Remove infected leaves, stake plants\n",
      "    🌿 **Organic Treatment Options:** Neem oil, Sulfur spray\n",
      "    🔄 **Alternative Prevention Methods:** Increase air circulation\n",
      "    🎥 **Procedure Video:** https://youtu.be/NtVqk3iPT44?si=zYwDuo6quyMQvYd4 / https://youtu.be/NtVqk3iPT44?si=zYwDuo6quyMQvYd4\n",
      "    \n"
     ]
    },
    {
     "data": {
      "text/html": [
       "<img src=\"https://th.bing.com/th/id/OIP.tugQknrVTSyPjgoln0aPSwHaEz?rs=1&pid=ImgDetMain\" width=\"400\"/>"
      ],
      "text/plain": [
       "<IPython.core.display.Image object>"
      ]
     },
     "metadata": {},
     "output_type": "display_data"
    }
   ],
   "source": [
    "new_image_path = '/kaggle/input/test-leaves/TomatoEarlyBlight.jpg'\n",
    "\n",
    "predicted_disease = predict_disease(loaded_model, new_image_path, class_indices)\n",
    "\n",
    "get_recommendation(predicted_disease)"
   ]
  },
  {
   "cell_type": "code",
   "execution_count": 37,
   "metadata": {
    "execution": {
     "iopub.execute_input": "2025-03-27T09:29:11.761883Z",
     "iopub.status.busy": "2025-03-27T09:29:11.761531Z",
     "iopub.status.idle": "2025-03-27T09:29:11.830425Z",
     "shell.execute_reply": "2025-03-27T09:29:11.829616Z",
     "shell.execute_reply.started": "2025-03-27T09:29:11.761855Z"
    },
    "trusted": true
   },
   "outputs": [
    {
     "name": "stdout",
     "output_type": "stream",
     "text": [
      "\u001b[1m1/1\u001b[0m \u001b[32m━━━━━━━━━━━━━━━━━━━━\u001b[0m\u001b[37m\u001b[0m \u001b[1m0s\u001b[0m 18ms/step\n",
      "🦠 Predicted Disease: Potato_Healthy\n",
      "No recommendation found for this disease. The leaf is healthy.\n"
     ]
    }
   ],
   "source": [
    "new_image_path = '/kaggle/input/test-leaves/Potato Healthy.jpg'\n",
    "\n",
    "predicted_disease = predict_disease(loaded_model, new_image_path, class_indices)\n",
    "\n",
    "get_recommendation(predicted_disease)"
   ]
  },
  {
   "cell_type": "code",
   "execution_count": 6,
   "metadata": {
    "trusted": true
   },
   "outputs": [
    {
     "name": "stderr",
     "output_type": "stream",
     "text": [
      "WARNING:absl:Compiled the loaded model, but the compiled metrics have yet to be built. `model.compile_metrics` will be empty until you train or evaluate the model.\n"
     ]
    },
    {
     "name": "stdout",
     "output_type": "stream",
     "text": [
      "\u001b[1m1/1\u001b[0m \u001b[32m━━━━━━━━━━━━━━━━━━━━\u001b[0m\u001b[37m\u001b[0m \u001b[1m4s\u001b[0m 4s/step\n",
      "🦠 Prediction: [[9.9999976e-01 1.8987058e-07]]\n"
     ]
    }
   ],
   "source": [
    "import tensorflow as tf\n",
    "import numpy as np\n",
    "import pandas as pd\n",
    "from tensorflow.keras.preprocessing import image\n",
    "from IPython.display import display, Image\n",
    "import os\n",
    "\n",
    "# Load class indices\n",
    "class_indices = {\n",
    "    'Apple_Apple Scab': 0, 'Apple_Black Rot': 1, 'Apple_Cedar Apple Rust': 2, 'Apple_Healthy': 3,\n",
    "    'Bell Pepper_Bacterial Spot': 4, 'Bell Pepper_Healthy': 5, 'Cherry_Healthy': 6, 'Cherry_Powdery Mildew': 7,\n",
    "    'Corn (Maize)_Cercospora Leaf Spot': 8, 'Corn (Maize)_Common Rust': 9, 'Corn (Maize)_Healthy': 10,\n",
    "    'Corn (Maize)_Northern Leaf Blight': 11, 'Grape_Black Rot': 12, 'Grape_Esca (Black Measles)': 13,\n",
    "    'Grape_Healthy': 14, 'Grape_Leaf Blight': 15, 'Peach_Bacterial Spot': 16, 'Peach_Healthy': 17,\n",
    "    'Potato_Early Blight': 18, 'Potato_Healthy': 19, 'Potato_Late Blight': 20, 'Strawberry_Healthy': 21,\n",
    "    'Strawberry_Leaf Scorch': 22, 'Tomato_Bacterial Spot': 23, 'Tomato_Early Blight': 24, 'Tomato_Healthy': 25,\n",
    "    'Tomato_Late Blight': 26, 'Tomato_Septoria Leaf Spot': 27, 'Tomato_Yellow Leaf Curl Virus': 28\n",
    "}\n",
    "\n",
    "# Load trained TensorFlow model\n",
    "model_path = 'leaf_vs_non-leaf.h5'\n",
    "model = tf.keras.models.load_model(model_path)\n",
    "\n",
    "def load_and_preprocess_image(img_path, target_size=(224, 224)):  # Correct size!\n",
    "    img = image.load_img(img_path, target_size=target_size)\n",
    "    img_array = image.img_to_array(img)\n",
    "    img_array = np.expand_dims(img_array, axis=0)  # Add batch dimension\n",
    "    img_array /= 255.0  # Normalize to [0,1]\n",
    "    return img_array\n",
    "\n",
    "img_path = 'bell_pepper.webp'  # Make sure to use the correct path to your test image\n",
    "img_array = load_and_preprocess_image(img_path)\n",
    "\n",
    "preds = model.predict(img_array)\n",
    "    \n",
    "print(f\"🦠 Prediction: {preds}\")\n",
    "\n"
   ]
  }
 ],
 "metadata": {
  "kaggle": {
   "accelerator": "nvidiaTeslaT4",
   "dataSources": [
    {
     "datasetId": 6980713,
     "sourceId": 11183336,
     "sourceType": "datasetVersion"
    },
    {
     "datasetId": 6980911,
     "sourceId": 11183605,
     "sourceType": "datasetVersion"
    },
    {
     "isSourceIdPinned": false,
     "modelId": 280819,
     "modelInstanceId": 259640,
     "sourceId": 304213,
     "sourceType": "modelInstanceVersion"
    }
   ],
   "dockerImageVersionId": 30919,
   "isGpuEnabled": true,
   "isInternetEnabled": true,
   "language": "python",
   "sourceType": "notebook"
  },
  "kernelspec": {
   "display_name": "minor",
   "language": "python",
   "name": "python3"
  },
  "language_info": {
   "codemirror_mode": {
    "name": "ipython",
    "version": 3
   },
   "file_extension": ".py",
   "mimetype": "text/x-python",
   "name": "python",
   "nbconvert_exporter": "python",
   "pygments_lexer": "ipython3",
   "version": "3.11.3"
  }
 },
 "nbformat": 4,
 "nbformat_minor": 4
}
